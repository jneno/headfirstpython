{
 "cells": [
  {
   "cell_type": "code",
   "execution_count": 6,
   "metadata": {},
   "outputs": [
    {
     "name": "stdout",
     "output_type": "stream",
     "text": [
      "['__add__', '__class__', '__contains__', '__delattr__', '__dir__', '__doc__', '__eq__', '__format__', '__ge__', '__getattribute__', '__getitem__', '__getnewargs__', '__gt__', '__hash__', '__init__', '__init_subclass__', '__iter__', '__le__', '__len__', '__lt__', '__mod__', '__mul__', '__ne__', '__new__', '__reduce__', '__reduce_ex__', '__repr__', '__rmod__', '__rmul__', '__setattr__', '__sizeof__', '__str__', '__subclasshook__', 'capitalize', 'casefold', 'center', 'count', 'encode', 'endswith', 'expandtabs', 'find', 'format', 'format_map', 'index', 'isalnum', 'isalpha', 'isascii', 'isdecimal', 'isdigit', 'isidentifier', 'islower', 'isnumeric', 'isprintable', 'isspace', 'istitle', 'isupper', 'join', 'ljust', 'lower', 'lstrip', 'maketrans', 'partition', 'removeprefix', 'removesuffix', 'replace', 'rfind', 'rindex', 'rjust', 'rpartition', 'rsplit', 'rstrip', 'split', 'splitlines', 'startswith', 'strip', 'swapcase', 'title', 'translate', 'upper', 'zfill']\n"
     ]
    },
    {
     "data": {
      "text/plain": [
       "'DARIUS-13-100M-FLY.TXT'"
      ]
     },
     "execution_count": 6,
     "metadata": {},
     "output_type": "execute_result"
    }
   ],
   "source": [
    "fn = \"Darius-13-100m-Fly.txt\"\n",
    "print(dir(fn))\n",
    "\n"
   ]
  },
  {
   "cell_type": "code",
   "execution_count": 7,
   "metadata": {},
   "outputs": [
    {
     "data": {
      "text/plain": [
       "'DARIUS-13-100M-FLY.TXT'"
      ]
     },
     "execution_count": 7,
     "metadata": {},
     "output_type": "execute_result"
    }
   ],
   "source": [
    "fn.upper()"
   ]
  },
  {
   "cell_type": "code",
   "execution_count": 8,
   "metadata": {},
   "outputs": [
    {
     "data": {
      "text/plain": [
       "'darius-13-100m-fly.txt'"
      ]
     },
     "execution_count": 8,
     "metadata": {},
     "output_type": "execute_result"
    }
   ],
   "source": [
    "fn.lower()"
   ]
  },
  {
   "cell_type": "code",
   "execution_count": 12,
   "metadata": {},
   "outputs": [
    {
     "name": "stdout",
     "output_type": "stream",
     "text": [
      "Help on built-in function split:\n",
      "\n",
      "split(sep=None, maxsplit=-1) method of builtins.str instance\n",
      "    Return a list of the words in the string, using sep as the delimiter string.\n",
      "    \n",
      "    sep\n",
      "      The delimiter according which to split the string.\n",
      "      None (the default value) means split according to any whitespace,\n",
      "      and discard empty strings from the result.\n",
      "    maxsplit\n",
      "      Maximum number of splits to do.\n",
      "      -1 (the default value) means no limit.\n",
      "\n"
     ]
    }
   ],
   "source": [
    "help(fn.split)"
   ]
  },
  {
   "cell_type": "code",
   "execution_count": 19,
   "metadata": {},
   "outputs": [
    {
     "name": "stdout",
     "output_type": "stream",
     "text": [
      "Darius\n",
      "13\n",
      "100m\n",
      "Fly\n"
     ]
    }
   ],
   "source": [
    "swimmer, age, distance, stroke = fn.removesuffix(\".txt\").split(\"-\")\n",
    "print(swimmer)\n",
    "print(age)\n",
    "print(distance)\n",
    "print(stroke)"
   ]
  },
  {
   "cell_type": "code",
   "execution_count": 48,
   "metadata": {},
   "outputs": [
    {
     "name": "stdout",
     "output_type": "stream",
     "text": [
      "8657.5\n",
      "86.575\n",
      "1\n",
      "26\n"
     ]
    }
   ],
   "source": [
    "FN = \"Darius-13-100m-Fly.txt\"\n",
    "FOLDER = \"swimdata/\"\n",
    "with open (FOLDER + FN) as file:\n",
    "    lines = file.readlines()\n",
    " #   print(lines[0])\n",
    "    lines[0].strip().split(\",\")\n",
    "    times = lines[0].strip().split(\",\")\n",
    "  #  print(times)\n",
    "\n",
    "    first = times[0]\n",
    "\n",
    "    minutes, rest = first.split(\":\")\n",
    "\n",
    "    seconds, hundredths = rest.split(\".\")\n",
    "\n",
    "    converted_time = int(minutes) * 60 + int(seconds) + int(hundredths) / 100\n",
    "\n",
    "  #  print(converted_time)\n",
    "\n",
    "    for t in times:\n",
    "        minutes, rest = t.split(\":\")\n",
    "        seconds, hundredths = rest.split(\".\")\n",
    "       # print(t, (int(minutes) * 60 + (int(seconds) * 100) + int(hundredths)))\n",
    "\n",
    "converts = []\n",
    "for t in times:\n",
    "        minutes, rest = t.split(\":\")\n",
    "        seconds, hundredths = rest.split(\".\")\n",
    "        converts.append((int(minutes) * 60 * 100) + (int(seconds) * 100) + int(hundredths))\n",
    "\n",
    "#print(times)\n",
    "#print(converts)\n",
    "\n",
    "import statistics\n",
    "\n",
    "print(statistics.mean(converts))\n",
    "\n",
    "average = statistics.mean(converts)\n",
    "print(average/100)\n",
    "\n",
    "mins_secs, hundredths = str(round(average/100, 2)).split(\".\")\n",
    "\n",
    "mins_secs = int(mins_secs)\n",
    "\n",
    "minutes = mins_secs // 60\n",
    "\n",
    "print(minutes)\n",
    "\n",
    "seconds = mins_secs - minutes * 60\n",
    "\n",
    "print(seconds)\n",
    "\n"
   ]
  }
 ],
 "metadata": {
  "kernelspec": {
   "display_name": "Python 3",
   "language": "python",
   "name": "python3"
  },
  "language_info": {
   "codemirror_mode": {
    "name": "ipython",
    "version": 3
   },
   "file_extension": ".py",
   "mimetype": "text/x-python",
   "name": "python",
   "nbconvert_exporter": "python",
   "pygments_lexer": "ipython3",
   "version": "3.10.2"
  },
  "orig_nbformat": 4
 },
 "nbformat": 4,
 "nbformat_minor": 2
}
