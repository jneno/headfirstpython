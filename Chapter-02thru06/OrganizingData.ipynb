{
 "cells": [
  {
   "cell_type": "code",
   "execution_count": 22,
   "metadata": {},
   "outputs": [
    {
     "name": "stdout",
     "output_type": "stream",
     "text": [
      "0 Abi\n",
      "1 Ali\n",
      "2 Alison\n",
      "3 Aurora\n",
      "4 Bill\n",
      "5 Blake\n",
      "6 Calvin\n",
      "7 Carl\n",
      "8 Chris\n",
      "9 Darius\n",
      "10 Dave\n",
      "Found him, yay!\n",
      "11 Elba\n",
      "12 Emma\n",
      "13 Erika\n",
      "14 Hannah\n",
      "15 Katie\n",
      "16 Lizzie\n",
      "17 Maria\n",
      "18 Mike\n",
      "19 Owen\n",
      "20 Ruth\n",
      "21 Tasmin\n"
     ]
    }
   ],
   "source": [
    "import os\n",
    "import swimclub\n",
    "\n",
    "swim_files = os.listdir(swimclub.FOLDER)\n",
    "swim_files.remove('.DS_Store')\n",
    "\n",
    "#print(len(swim_files))\n",
    "\n",
    "swimmers = {}\n",
    "for file in swim_files:\n",
    "    name,  *_ = swimclub.read_swim_data(file)\n",
    "    if name not in swimmers:\n",
    "        swimmers[name] = []\n",
    "    swimmers[name].append(file)\n",
    "\n",
    "#print(swimmers[\"Dave\"])\n",
    "\n",
    "for n, event in enumerate(swimmers):\n",
    "    print(n, event)\n",
    "    if event == \"Dave\":\n",
    "        print(\"Found him, yay!\")\n",
    "\n"
   ]
  }
 ],
 "metadata": {
  "kernelspec": {
   "display_name": "Python 3",
   "language": "python",
   "name": "python3"
  },
  "language_info": {
   "codemirror_mode": {
    "name": "ipython",
    "version": 3
   },
   "file_extension": ".py",
   "mimetype": "text/x-python",
   "name": "python",
   "nbconvert_exporter": "python",
   "pygments_lexer": "ipython3",
   "version": "3.10.2"
  },
  "orig_nbformat": 4
 },
 "nbformat": 4,
 "nbformat_minor": 2
}
